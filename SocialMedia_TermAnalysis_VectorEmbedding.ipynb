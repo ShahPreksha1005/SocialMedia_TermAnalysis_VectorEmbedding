{
 "cells": [
  {
   "cell_type": "markdown",
   "metadata": {
    "id": "BEZkdDJhJ-YZ"
   },
   "source": [
    "# **Sparse Vector (Embedding)**\n",
    "\n",
    "**1. Importing Required Libraries**\n",
    "\n",
    "We start by importing essential Python libraries for data manipulation, visualization, and NLP."
   ]
  },
  {
   "cell_type": "code",
   "execution_count": 1,
   "metadata": {
    "colab": {
     "base_uri": "https://localhost:8080/"
    },
    "id": "cQMy1joccxC1",
    "outputId": "dc0215e5-fea5-4166-ef2a-c5b625de18da"
   },
   "outputs": [
    {
     "name": "stderr",
     "output_type": "stream",
     "text": [
      "[nltk_data] Downloading package punkt to /root/nltk_data...\n",
      "[nltk_data]   Unzipping tokenizers/punkt.zip.\n",
      "[nltk_data] Downloading package stopwords to /root/nltk_data...\n",
      "[nltk_data]   Unzipping corpora/stopwords.zip.\n"
     ]
    }
   ],
   "source": [
    "# Import necessary libraries\n",
    "import pandas as pd\n",
    "import numpy as np\n",
    "import matplotlib.pyplot as plt\n",
    "import seaborn as sns\n",
    "from sklearn.feature_extraction.text import TfidfVectorizer\n",
    "from sklearn.metrics.pairwise import cosine_similarity\n",
    "from sklearn.preprocessing import normalize\n",
    "import nltk\n",
    "from wordcloud import WordCloud\n",
    "import spacy\n",
    "\n",
    "# Download required NLTK resources\n",
    "nltk.download('punkt')\n",
    "nltk.download('stopwords')\n",
    "\n",
    "# Load the spaCy model for Named Entity Recognition (NER)\n",
    "nlp = spacy.load(\"en_core_web_sm\")\n"
   ]
  },
  {
   "cell_type": "markdown",
   "metadata": {
    "id": "A3HXt1tkJ4I_"
   },
   "source": [
    "**2. Load and Explore the Dataset**\n",
    "\n",
    "We load the dataset and check its structure to understand the data we are working with."
   ]
  },
  {
   "cell_type": "code",
   "execution_count": 6,
   "metadata": {
    "id": "64MOIctdfAc0"
   },
   "outputs": [],
   "source": [
    "# Load the dataset (replace 'social_media_data.csv' with your actual file path)\n",
    "df = pd.read_csv('/content/synthetic_social_media_data.csv')\n"
   ]
  },
  {
   "cell_type": "code",
   "execution_count": 3,
   "metadata": {
    "colab": {
     "base_uri": "https://localhost:8080/"
    },
    "id": "WoqmRnWafJN-",
    "outputId": "3992025a-6ef0-43b6-d502-585064696046"
   },
   "outputs": [
    {
     "name": "stdout",
     "output_type": "stream",
     "text": [
      "                                Post ID  \\\n",
      "0  aa391375-7355-44b7-bcbf-97fb4e5a2ba3   \n",
      "1  1c9ec98d-437a-48d9-9cba-bd5ad853c59a   \n",
      "2  170e5b5b-1d9a-4d02-a957-93c4dbb18908   \n",
      "3  aec53496-60ee-4a06-8821-093a04dc8770   \n",
      "4  4eacddb7-990d-4056-8784-7e1d5c4d1404   \n",
      "\n",
      "                                        Post Content Sentiment Label  \\\n",
      "0  Word who nor center everything better politica...         Neutral   \n",
      "1  Begin administration population good president...        Positive   \n",
      "2  Thousand total sign. Agree product relationshi...        Positive   \n",
      "3  Individual from news third. Oil forget them di...         Neutral   \n",
      "4  Time adult letter see reduce. Attention sudden...        Negative   \n",
      "\n",
      "   Number of Likes  Number of Shares  Number of Comments  User Follower Count  \\\n",
      "0              157               243                  64                 4921   \n",
      "1              166                49                 121                  612   \n",
      "2              185               224                 179                 9441   \n",
      "3              851               369                  39                 6251   \n",
      "4              709               356                  52                 1285   \n",
      "\n",
      "    Post Date and Time Post Type Language  \n",
      "0  2024-01-10 00:14:21     video       fr  \n",
      "1  2024-02-03 00:20:11     image       es  \n",
      "2  2024-07-25 14:20:23     video       de  \n",
      "3  2024-02-20 09:15:09      text       de  \n",
      "4  2024-03-01 04:17:35     image       de  \n"
     ]
    }
   ],
   "source": [
    "# Display the first few rows of the dataset\n",
    "print(df.head())"
   ]
  },
  {
   "cell_type": "code",
   "execution_count": 4,
   "metadata": {
    "colab": {
     "base_uri": "https://localhost:8080/"
    },
    "id": "sIQwgbgtfNAG",
    "outputId": "a4a119de-2f94-49c9-cde8-88154cb21ab9"
   },
   "outputs": [
    {
     "name": "stdout",
     "output_type": "stream",
     "text": [
      "<class 'pandas.core.frame.DataFrame'>\n",
      "RangeIndex: 2000 entries, 0 to 1999\n",
      "Data columns (total 10 columns):\n",
      " #   Column               Non-Null Count  Dtype \n",
      "---  ------               --------------  ----- \n",
      " 0   Post ID              2000 non-null   object\n",
      " 1   Post Content         2000 non-null   object\n",
      " 2   Sentiment Label      2000 non-null   object\n",
      " 3   Number of Likes      2000 non-null   int64 \n",
      " 4   Number of Shares     2000 non-null   int64 \n",
      " 5   Number of Comments   2000 non-null   int64 \n",
      " 6   User Follower Count  2000 non-null   int64 \n",
      " 7   Post Date and Time   2000 non-null   object\n",
      " 8   Post Type            2000 non-null   object\n",
      " 9   Language             2000 non-null   object\n",
      "dtypes: int64(4), object(6)\n",
      "memory usage: 156.4+ KB\n",
      "None\n"
     ]
    }
   ],
   "source": [
    "# Check the column names and data types\n",
    "print(df.info())"
   ]
  },
  {
   "cell_type": "code",
   "execution_count": 5,
   "metadata": {
    "colab": {
     "base_uri": "https://localhost:8080/"
    },
    "id": "Qvr7ij3CfO--",
    "outputId": "b354460a-25f8-492e-92bc-3cf93cef28af"
   },
   "outputs": [
    {
     "name": "stdout",
     "output_type": "stream",
     "text": [
      "Post ID                0\n",
      "Post Content           0\n",
      "Sentiment Label        0\n",
      "Number of Likes        0\n",
      "Number of Shares       0\n",
      "Number of Comments     0\n",
      "User Follower Count    0\n",
      "Post Date and Time     0\n",
      "Post Type              0\n",
      "Language               0\n",
      "dtype: int64\n"
     ]
    }
   ],
   "source": [
    "# Check for any missing values\n",
    "print(df.isnull().sum())"
   ]
  },
  {
   "cell_type": "markdown",
   "metadata": {
    "id": "aWeN9q58JxBt"
   },
   "source": [
    "**3. Data Preprocessing**\n",
    "\n",
    "Since the dataset includes a \"Post Content\" column, we preprocess the text by converting it to lowercase, removing punctuation, and cleaning it for further analysis."
   ]
  },
  {
   "cell_type": "code",
   "execution_count": 7,
   "metadata": {
    "id": "2JJ13dnGfQdR"
   },
   "outputs": [],
   "source": [
    "# Basic Text Cleaning: Lowercase conversion, removing punctuation, and handling missing values\n",
    "df['Post Content'] = df['Post Content'].fillna('').str.lower()\n",
    "df['Post Content'] = df['Post Content'].str.replace('[^a-z\\s]', '', regex=True)\n"
   ]
  },
  {
   "cell_type": "code",
   "execution_count": 8,
   "metadata": {
    "colab": {
     "base_uri": "https://localhost:8080/"
    },
    "id": "gcUwvXIKfVeX",
    "outputId": "6676f158-dc94-4385-f843-eb63ecfe04cf"
   },
   "outputs": [
    {
     "name": "stdout",
     "output_type": "stream",
     "text": [
      "0    word who nor center everything better politica...\n",
      "1    begin administration population good president...\n",
      "2    thousand total sign agree product relationship...\n",
      "3    individual from news third oil forget them dif...\n",
      "4    time adult letter see reduce attention suddenl...\n",
      "Name: Post Content, dtype: object\n"
     ]
    }
   ],
   "source": [
    "# Display a sample of the cleaned text\n",
    "print(df['Post Content'].head())"
   ]
  },
  {
   "cell_type": "markdown",
   "metadata": {
    "id": "xThd9B9JJsn6"
   },
   "source": [
    "**4. TF-IDF Calculation**\n",
    "\n",
    "Here, we compute the Term Frequency-Inverse Document Frequency (TF-IDF) for specific words like \"car\", \"auto\", \"insurance\", and \"best\" in the \"Post Content\" column."
   ]
  },
  {
   "cell_type": "code",
   "execution_count": 9,
   "metadata": {
    "id": "opl_PTO-fWyC"
   },
   "outputs": [],
   "source": [
    "# Define the query terms for TF-IDF\n",
    "query_terms = ['car', 'auto', 'insurance', 'best']\n"
   ]
  },
  {
   "cell_type": "code",
   "execution_count": 10,
   "metadata": {
    "id": "_6WR8jy3fZPy"
   },
   "outputs": [],
   "source": [
    "# Initialize the TfidfVectorizer\n",
    "tfidf_vectorizer = TfidfVectorizer(vocabulary=query_terms)\n"
   ]
  },
  {
   "cell_type": "code",
   "execution_count": 11,
   "metadata": {
    "id": "r9N3lwpKfa-o"
   },
   "outputs": [],
   "source": [
    "# Compute the TF-IDF matrix for 'Post Content'\n",
    "tfidf_matrix = tfidf_vectorizer.fit_transform(df['Post Content'])\n"
   ]
  },
  {
   "cell_type": "code",
   "execution_count": 12,
   "metadata": {
    "id": "k-kojptyfdE6"
   },
   "outputs": [],
   "source": [
    "# Convert the TF-IDF matrix to a DataFrame\n",
    "tfidf_df = pd.DataFrame(tfidf_matrix.toarray(), columns=query_terms)\n"
   ]
  },
  {
   "cell_type": "code",
   "execution_count": 13,
   "metadata": {
    "colab": {
     "base_uri": "https://localhost:8080/"
    },
    "id": "GMu7Pb9QfejI",
    "outputId": "3520a288-2c1e-4bee-dfac-295c55a59a79"
   },
   "outputs": [
    {
     "name": "stdout",
     "output_type": "stream",
     "text": [
      "TF-IDF Weights for Terms:\n",
      "   car  auto  insurance  best\n",
      "0  0.0   0.0        0.0   0.0\n",
      "1  0.0   0.0        0.0   0.0\n",
      "2  0.0   0.0        0.0   0.0\n",
      "3  0.0   0.0        0.0   0.0\n",
      "4  0.0   0.0        0.0   0.0\n"
     ]
    }
   ],
   "source": [
    "# Display the TF-IDF weights\n",
    "print(\"TF-IDF Weights for Terms:\")\n",
    "print(tfidf_df.head())"
   ]
  },
  {
   "cell_type": "markdown",
   "metadata": {
    "id": "doTomJ56JnEH"
   },
   "source": [
    "**5. Euclidean Normalization**\n",
    "\n",
    "After calculating the term frequencies, we normalize the values using Euclidean normalization to standardize the term frequencies."
   ]
  },
  {
   "cell_type": "code",
   "execution_count": 14,
   "metadata": {
    "id": "0PRQrsjuffxb"
   },
   "outputs": [],
   "source": [
    "# Apply Euclidean normalization to the TF-IDF values\n",
    "tfidf_normalized = normalize(tfidf_df, norm='l2', axis=1)\n"
   ]
  },
  {
   "cell_type": "code",
   "execution_count": 15,
   "metadata": {
    "id": "PIClBEoTfkz9"
   },
   "outputs": [],
   "source": [
    "# Convert normalized values back to DataFrame\n",
    "tfidf_normalized_df = pd.DataFrame(tfidf_normalized, columns=query_terms)\n"
   ]
  },
  {
   "cell_type": "code",
   "execution_count": 16,
   "metadata": {
    "colab": {
     "base_uri": "https://localhost:8080/"
    },
    "id": "D8QOPBoffmM_",
    "outputId": "e60ad512-bdc5-456d-8980-e936d090a521"
   },
   "outputs": [
    {
     "name": "stdout",
     "output_type": "stream",
     "text": [
      "Normalized TF-IDF Weights:\n",
      "   car  auto  insurance  best\n",
      "0  0.0   0.0        0.0   0.0\n",
      "1  0.0   0.0        0.0   0.0\n",
      "2  0.0   0.0        0.0   0.0\n",
      "3  0.0   0.0        0.0   0.0\n",
      "4  0.0   0.0        0.0   0.0\n"
     ]
    }
   ],
   "source": [
    "# Display normalized TF-IDF weights\n",
    "print(\"Normalized TF-IDF Weights:\")\n",
    "print(tfidf_normalized_df.head())"
   ]
  },
  {
   "cell_type": "markdown",
   "metadata": {
    "id": "03Vd9GcoJgeG"
   },
   "source": [
    "**6. Cosine Similarity**\n",
    "\n",
    "We now compute the Cosine Similarity between different documents to identify the similarity between the terms.\n",
    "\n"
   ]
  },
  {
   "cell_type": "code",
   "execution_count": 24,
   "metadata": {
    "id": "bYTdDGUAfnsz"
   },
   "outputs": [],
   "source": [
    "# Compute Cosine Similarity between the terms in the TF-IDF matrix\n",
    "cosine_sim = cosine_similarity(tfidf_matrix)\n"
   ]
  },
  {
   "cell_type": "code",
   "execution_count": 25,
   "metadata": {
    "colab": {
     "base_uri": "https://localhost:8080/"
    },
    "id": "CtBCaxXtf7kD",
    "outputId": "f65e4f2e-b696-4e59-eb00-4604242b790a"
   },
   "outputs": [
    {
     "name": "stdout",
     "output_type": "stream",
     "text": [
      "      Doc1  Doc2  Doc3  Doc4  Doc5  Doc6  Doc7  Doc8  Doc9  Doc10  ...  \\\n",
      "Doc1   0.0   0.0   0.0   0.0   0.0   0.0   0.0   0.0   0.0    0.0  ...   \n",
      "Doc2   0.0   0.0   0.0   0.0   0.0   0.0   0.0   0.0   0.0    0.0  ...   \n",
      "Doc3   0.0   0.0   0.0   0.0   0.0   0.0   0.0   0.0   0.0    0.0  ...   \n",
      "Doc4   0.0   0.0   0.0   0.0   0.0   0.0   0.0   0.0   0.0    0.0  ...   \n",
      "Doc5   0.0   0.0   0.0   0.0   0.0   0.0   0.0   0.0   0.0    0.0  ...   \n",
      "\n",
      "      Doc1991  Doc1992  Doc1993  Doc1994  Doc1995  Doc1996  Doc1997  Doc1998  \\\n",
      "Doc1      0.0      0.0      0.0      0.0      0.0      0.0      0.0      0.0   \n",
      "Doc2      0.0      0.0      0.0      0.0      0.0      0.0      0.0      0.0   \n",
      "Doc3      0.0      0.0      0.0      0.0      0.0      0.0      0.0      0.0   \n",
      "Doc4      0.0      0.0      0.0      0.0      0.0      0.0      0.0      0.0   \n",
      "Doc5      0.0      0.0      0.0      0.0      0.0      0.0      0.0      0.0   \n",
      "\n",
      "      Doc1999  Doc2000  \n",
      "Doc1      0.0      0.0  \n",
      "Doc2      0.0      0.0  \n",
      "Doc3      0.0      0.0  \n",
      "Doc4      0.0      0.0  \n",
      "Doc5      0.0      0.0  \n",
      "\n",
      "[5 rows x 2000 columns]\n"
     ]
    }
   ],
   "source": [
    "# Create dynamic labels for each document\n",
    "doc_labels = [f'Doc{i+1}' for i in range(tfidf_matrix.shape[0])]\n",
    "\n",
    "# Convert the cosine similarity matrix to DataFrame for all documents\n",
    "cosine_sim_df = pd.DataFrame(cosine_sim, columns=doc_labels, index=doc_labels)\n",
    "\n",
    "# Display the cosine similarity matrix\n",
    "print(cosine_sim_df.head())\n"
   ]
  },
  {
   "cell_type": "markdown",
   "metadata": {
    "id": "6Hos7TeDJYgL"
   },
   "source": [
    "**7. Word Embeddings Using SpaCy**\n",
    "\n",
    "To generate a word embedding for each term, we use SpaCy, a popular NLP library. Word embeddings capture the semantic similarity between words.\n",
    "\n"
   ]
  },
  {
   "cell_type": "code",
   "execution_count": 26,
   "metadata": {
    "id": "mqPE_cLVhB1o"
   },
   "outputs": [],
   "source": [
    "# Example words to create embeddings for: 'car', 'auto', 'insurance', 'best'\n",
    "words = ['car', 'auto', 'insurance', 'best']"
   ]
  },
  {
   "cell_type": "code",
   "execution_count": 27,
   "metadata": {
    "id": "SdEQcnJ_EsIk"
   },
   "outputs": [],
   "source": [
    "# Create word embeddings using SpaCy\n",
    "word_embeddings = {word: nlp(word).vector for word in words}\n"
   ]
  },
  {
   "cell_type": "code",
   "execution_count": 28,
   "metadata": {
    "colab": {
     "base_uri": "https://localhost:8080/"
    },
    "id": "F1P1maQ_Ewcj",
    "outputId": "010b0529-7319-4ed4-aa0d-ba50f7d47330"
   },
   "outputs": [
    {
     "name": "stdout",
     "output_type": "stream",
     "text": [
      "Word: car, Embedding Vector: [-1.3696824  -0.38167214 -0.914183    0.10742364 -0.246116   -0.01996091\n",
      "  0.77010477  1.7142854  -0.09008784 -0.26209286]...\n",
      "Word: auto, Embedding Vector: [-1.4267825  -0.73297024 -0.3350294   0.2729452  -0.555292   -0.30753097\n",
      "  0.00742118  0.8350202  -0.19625245 -1.1181103 ]...\n",
      "Word: insurance, Embedding Vector: [-1.5398034  -0.34571    -0.97388935 -0.02272844 -0.05953687 -0.43266296\n",
      "  0.8289215   1.2402549  -0.1720698  -0.69831073]...\n",
      "Word: best, Embedding Vector: [-1.0370533  -1.3944091  -0.8029588  -1.8264171  -0.4620498   0.03546381\n",
      "  0.7953415   1.7667754  -0.4339797   0.00565182]...\n"
     ]
    }
   ],
   "source": [
    "# Display the word embeddings\n",
    "for word, vector in word_embeddings.items():\n",
    "    print(f\"Word: {word}, Embedding Vector: {vector[:10]}...\")  # Print only first 10 dimensions"
   ]
  },
  {
   "cell_type": "markdown",
   "metadata": {
    "id": "7acbHDFCJPr2"
   },
   "source": [
    "**8. Plotting Word Embeddings**\n",
    "\n",
    "We plot the word embeddings to visually understand the relationship between terms like \"car\" and \"auto\" (which are semantically similar)."
   ]
  },
  {
   "cell_type": "code",
   "execution_count": 29,
   "metadata": {
    "id": "RGGJVdmiFFK1"
   },
   "outputs": [],
   "source": [
    "from sklearn.decomposition import PCA\n",
    "import matplotlib.pyplot as plt\n"
   ]
  },
  {
   "cell_type": "code",
   "execution_count": 30,
   "metadata": {
    "id": "W_s2iFsnFHKU"
   },
   "outputs": [],
   "source": [
    "# Reduce the dimensions of the word embeddings for 2D plotting\n",
    "pca = PCA(n_components=2)\n",
    "word_vectors = np.array([vector for vector in word_embeddings.values()])\n",
    "word_vectors_2d = pca.fit_transform(word_vectors)\n"
   ]
  },
  {
   "cell_type": "code",
   "execution_count": 31,
   "metadata": {
    "colab": {
     "base_uri": "https://localhost:8080/",
     "height": 564
    },
    "id": "xS3GQ-aGFKNM",
    "outputId": "093ebb6d-fbd5-4966-ad15-d2f60556fc39"
   },
   "outputs": [
    {
     "data": {
      "image/png": "[encoded data removed]",
      "text/plain": [
       "<Figure size 800x600 with 1 Axes>"
      ]
     },
     "metadata": {},
     "output_type": "display_data"
    }
   ],
   "source": [
    "# Plot the word embeddings\n",
    "plt.figure(figsize=(8, 6))\n",
    "plt.scatter(word_vectors_2d[:, 0], word_vectors_2d[:, 1], color='blue')\n",
    "\n",
    "# Annotate the plot with words\n",
    "for i, word in enumerate(words):\n",
    "    plt.annotate(word, xy=(word_vectors_2d[i, 0], word_vectors_2d[i, 1]))\n",
    "\n",
    "plt.title('2D Plot of Word Embeddings')\n",
    "plt.xlabel('PCA Component 1')\n",
    "plt.ylabel('PCA Component 2')\n",
    "plt.show()"
   ]
  },
  {
   "cell_type": "markdown",
   "metadata": {
    "id": "pIkffvWcJJMW"
   },
   "source": [
    "**9. Finding Nearest Neighbors Using Cosine Similarity**\n",
    "\n",
    "Now we calculate the nearest neighbors of a word based on cosine similarity, showing how close words like \"car\" and \"auto\" are in the vector space."
   ]
  },
  {
   "cell_type": "code",
   "execution_count": 34,
   "metadata": {
    "id": "JHSpyrFsFREa"
   },
   "outputs": [],
   "source": [
    "# Function to find the nearest word using cosine similarity\n",
    "def nearest_word(word, word_embeddings):\n",
    "    word_vec = word_embeddings[word]\n",
    "    nearest = None\n",
    "    max_similarity = -1\n",
    "\n",
    "    # Compare with every other word\n",
    "    for other_word, other_vec in word_embeddings.items():\n",
    "        if word != other_word:\n",
    "            # Calculate cosine similarity\n",
    "            similarity = cosine_similarity([word_vec], [other_vec])[0][0]\n",
    "            if similarity > max_similarity:\n",
    "                max_similarity = similarity\n",
    "                nearest = other_word\n",
    "    return nearest, max_similarity\n"
   ]
  },
  {
   "cell_type": "code",
   "execution_count": 35,
   "metadata": {
    "id": "tA2j-6j6FjX4"
   },
   "outputs": [],
   "source": [
    "# Example word list\n",
    "words = ['car', 'auto', 'insurance', 'best']\n",
    "\n",
    "# Create word embeddings using SpaCy\n",
    "word_embeddings = {word: nlp(word).vector for word in words}\n"
   ]
  },
  {
   "cell_type": "code",
   "execution_count": 36,
   "metadata": {
    "colab": {
     "base_uri": "https://localhost:8080/"
    },
    "id": "IGlf-NdbFnD1",
    "outputId": "cf2ebef7-966a-49c5-8121-85eaed919c60"
   },
   "outputs": [
    {
     "name": "stdout",
     "output_type": "stream",
     "text": [
      "The nearest word to 'car' is 'insurance' with cosine similarity 0.7074\n"
     ]
    }
   ],
   "source": [
    "# Find the nearest word to 'car'\n",
    "nearest, similarity = nearest_word('car', word_embeddings)\n",
    "\n",
    "# Print the result\n",
    "print(f\"The nearest word to 'car' is '{nearest}' with cosine similarity {similarity:.4f}\")\n"
   ]
  },
  {
   "cell_type": "markdown",
   "metadata": {
    "id": "m6rsXhW4JDGj"
   },
   "source": [
    "**10. Pointwise Mutual Information (PMI)**\n",
    "\n",
    "We use PMI to measure how often words co-occur in a dataset, especially when low-frequency words appear together."
   ]
  },
  {
   "cell_type": "code",
   "execution_count": 37,
   "metadata": {
    "colab": {
     "base_uri": "https://localhost:8080/"
    },
    "id": "ZDanhuO6Fw_B",
    "outputId": "327248cd-83b2-48c9-faf7-c836a9b8f360"
   },
   "outputs": [
    {
     "name": "stdout",
     "output_type": "stream",
     "text": [
      "Top 10 Word Pairs by PMI:\n",
      "[('reduce', 'finally'), ('performance', 'point'), ('defense', 'this'), ('account', 'hospital'), ('determine', 'debate'), ('candidate', 'keep'), ('travel', 'a'), ('still', 'floor'), ('similar', 'court'), ('court', 'too')]\n"
     ]
    }
   ],
   "source": [
    "from nltk.collocations import BigramAssocMeasures, BigramCollocationFinder\n",
    "\n",
    "# Tokenize the 'Post Content' for PMI calculations\n",
    "tokens = [nltk.word_tokenize(content) for content in df['Post Content']]\n",
    "tokens_flat = [token for sublist in tokens for token in sublist]\n",
    "\n",
    "# Compute PMI for word pairs using NLTK's BigramCollocationFinder\n",
    "bigram_measures = BigramAssocMeasures()\n",
    "finder = BigramCollocationFinder.from_words(tokens_flat)\n",
    "\n",
    "# Find top word pairs based on PMI\n",
    "pmi_bigrams = finder.nbest(bigram_measures.pmi, 10)\n",
    "print(\"Top 10 Word Pairs by PMI:\")\n",
    "print(pmi_bigrams)\n"
   ]
  },
  {
   "cell_type": "markdown",
   "metadata": {
    "id": "5k9omNgjGBAv"
   },
   "source": [
    "### **Conclusion**\n",
    "This code performs several tasks, including:\n",
    "1. **TF-IDF** calculation to compute term importance.\n",
    "2. **Cosine Similarity** to measure similarity between terms and documents.\n",
    "3. **Word Embeddings** to capture semantic meaning in the vector space.\n",
    "4. **Nearest Neighbors** to find similar words using cosine similarity.\n",
    "5. **PMI** to analyze word co-occurrence.\n",
    "\n",
    "This approach provides insights into how social media content can be analyzed to uncover patterns, similarities, and relationships between key terms."
   ]
  }
 ],
 "metadata": {
  "colab": {
   "provenance": []
  },
  "kernelspec": {
   "display_name": "Python 3",
   "name": "python3"
  },
  "language_info": {
   "name": "python"
  }
 },
 "nbformat": 4,
 "nbformat_minor": 0
}
